{
 "cells": [
  {
   "cell_type": "code",
   "execution_count": 10,
   "id": "faf0c599-326e-47a6-873c-b717cdce01fa",
   "metadata": {},
   "outputs": [],
   "source": [
    "import numpy as np\n",
    "from matplotlib import pyplot as plt"
   ]
  },
  {
   "cell_type": "code",
   "execution_count": 16,
   "id": "afc84266-ac83-4123-a1b6-8b2968c99e87",
   "metadata": {},
   "outputs": [],
   "source": [
    "data = np.array([[3.0,3.5],[2.0,1.0],[3.0,5.5],[6.0,2.0],[6.0,5.5],[1.0,5.0],[6.0,4.0],[2.5,3.0],[4.0,2.5],[5.0,5.0]])\n",
    "query = np.array([4,4])"
   ]
  },
  {
   "cell_type": "code",
   "execution_count": 28,
   "id": "43372f7d-fe9e-4048-9f5a-908775073257",
   "metadata": {},
   "outputs": [],
   "source": [
    "def compute_distance(data, query, dist):\n",
    "    if dist == \"Euclidienne\":\n",
    "        distance = np.sqrt(np.sum(np.square(np.abs(data - query)),axis=1))\n",
    "    return distance"
   ]
  },
  {
   "cell_type": "code",
   "execution_count": 29,
   "id": "6caa418e-8318-4e1d-915e-8ac665510858",
   "metadata": {},
   "outputs": [
    {
     "data": {
      "text/plain": [
       "array([1.11803399, 3.60555128, 1.80277564, 2.82842712, 2.5       ,\n",
       "       3.16227766, 2.        , 1.80277564, 1.5       , 1.41421356])"
      ]
     },
     "execution_count": 29,
     "metadata": {},
     "output_type": "execute_result"
    }
   ],
   "source": [
    "compute_distance(data, query, \"Euclidienne\")"
   ]
  },
  {
   "cell_type": "code",
   "execution_count": 34,
   "id": "44696cca-5986-4b3d-a58b-6803fb8681f9",
   "metadata": {},
   "outputs": [
    {
     "data": {
      "text/plain": [
       "array([-1.5, -5. ,  0.5,  0. ,  3.5, -2. ,  2. , -2.5, -1.5,  2. ])"
      ]
     },
     "execution_count": 34,
     "metadata": {},
     "output_type": "execute_result"
    }
   ],
   "source": [
    "np.sum(data-query,axis=1)"
   ]
  },
  {
   "cell_type": "code",
   "execution_count": null,
   "id": "71e87c2a-f35b-4b3b-9bb1-d138028e0562",
   "metadata": {},
   "outputs": [],
   "source": []
  }
 ],
 "metadata": {
  "kernelspec": {
   "display_name": "Python 3 (ipykernel)",
   "language": "python",
   "name": "python3"
  },
  "language_info": {
   "codemirror_mode": {
    "name": "ipython",
    "version": 3
   },
   "file_extension": ".py",
   "mimetype": "text/x-python",
   "name": "python",
   "nbconvert_exporter": "python",
   "pygments_lexer": "ipython3",
   "version": "3.10.5"
  }
 },
 "nbformat": 4,
 "nbformat_minor": 5
}
